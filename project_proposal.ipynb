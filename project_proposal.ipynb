{
 "cells": [
  {
   "cell_type": "markdown",
   "metadata": {},
   "source": [
    "# Mod 5 Project proposal\n",
    "\n",
    "Create a comprehensive recomender system for www.fohr.co, an influencer marketing agency. \n",
    "\n",
    "This project will create a list of recommended social media influencers given a sample infleuncer. The goal is to find not simply like demographics, but the tone, subject matter, style, and quality of matching influencer accounts. \n",
    "\n",
    "This tool is intended to be used by clients of the agency to aid in a their search for media partnerships with new accounts. The agency currently has 75,000 infleuncer accounts with a wide variety of content types. Typically brands use this agency to find many accounts to work with simaltaneously, and searching through the roster can be very time consuming. This tool will not be intended to supplant human filter to check for accuracy, but should narrow the search. "
   ]
  },
  {
   "cell_type": "markdown",
   "metadata": {},
   "source": [
    "### Step 1\n",
    "\n",
    "Familiarize myself with the data and the agency's data storage methods. Fohr uses Elasticsearch 2.4. This is a java based NoSQL database.  They prefer to use a library in Rails that makes calls to the database. I will familiarize myself with this style to see if it will be feasible to learn inside the project deadline. \n",
    "\n",
    "Alternative 1 - Work with the product team at Fohr to set up SQL \n",
    "\n",
    "Alternative 2 - Work with the product team to have a single pull made in order to have some data locally to use for the model.\n",
    "\n",
    "Data will include the most recent 100 Instagram posts from users with more than 10,000 followers. "
   ]
  },
  {
   "cell_type": "markdown",
   "metadata": {},
   "source": [
    "### Step 2 \n",
    "\n",
    "Separate images and work to build one of two methods to either classify the images according to likeness or create a cosine similarty matrix to determine each users relation to each other.\n",
    "\n",
    "Images will be listed as a URL in the data frame. Write a script to either save or view these images in the model. \n",
    "\n",
    "- use bucket probablity and take the top 3 probabilities as features in the final Cos Sim. \n"
   ]
  },
  {
   "cell_type": "markdown",
   "metadata": {},
   "source": [
    "### Step 3 \n",
    "\n",
    "Refine and process all caption data.  In a previous mod 4 project we used Word2Vec to create vectors for each word in the corpus. Instagram includes many different and unusual words. This dracstically improved the results. I will repurpose this for the larger project and create 3 separate cosine similarity tables for captions, hashtags, and mentions. "
   ]
  },
  {
   "cell_type": "markdown",
   "metadata": {},
   "source": [
    "### Step 4 \n",
    "\n",
    "Combine all previous simiality tasks as features in a final map of users. Then write a script to make calls to this map to return a list of reccomended users. Refine and tune this model to increase accuracy."
   ]
  },
  {
   "cell_type": "markdown",
   "metadata": {},
   "source": [
    "### Step 5 \n",
    "\n",
    "Implement the script to be connected to a front end of Fohr and available for their sales team and clients. \n",
    "\n",
    "Create future forward script that processes new data periodically in the most efficient manner. "
   ]
  }
 ],
 "metadata": {
  "kernelspec": {
   "display_name": "Python 3",
   "language": "python",
   "name": "python3"
  },
  "language_info": {
   "codemirror_mode": {
    "name": "ipython",
    "version": 3
   },
   "file_extension": ".py",
   "mimetype": "text/x-python",
   "name": "python",
   "nbconvert_exporter": "python",
   "pygments_lexer": "ipython3",
   "version": "3.7.1"
  }
 },
 "nbformat": 4,
 "nbformat_minor": 2
}
