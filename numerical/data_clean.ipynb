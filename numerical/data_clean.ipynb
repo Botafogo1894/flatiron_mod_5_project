{
 "cells": [
  {
   "cell_type": "code",
   "execution_count": 1,
   "metadata": {},
   "outputs": [],
   "source": [
    "import pandas as pd\n",
    "import re\n",
    "import numpy as np\n",
    "import warnings\n",
    "warnings.filterwarnings('ignore')\n",
    "from sklearn.metrics.pairwise import cosine_similarity"
   ]
  },
  {
   "cell_type": "code",
   "execution_count": 2,
   "metadata": {},
   "outputs": [],
   "source": [
    "post_path = './2000/first_2000.csv'\n",
    "columns = ['id', 'categories', 'description', 'birthday', 'gender',\n",
    "       'post_followers', 'post_time', 'post_interactions', 'post_likes', 'post_comments',\n",
    "       'post_caption', 'post_hashtags', 'post_mentions', 'perma_link',\n",
    "       'image']"
   ]
  },
  {
   "cell_type": "code",
   "execution_count": 3,
   "metadata": {},
   "outputs": [],
   "source": [
    "df = pd.read_csv(post_path, names=columns, skiprows=1, keep_default_na=False)"
   ]
  },
  {
   "cell_type": "markdown",
   "metadata": {},
   "source": [
    "Reassign columns due to inaccurate labeling from the original post csv. "
   ]
  },
  {
   "cell_type": "code",
   "execution_count": 4,
   "metadata": {},
   "outputs": [],
   "source": [
    "df.drop(index=[359371, 131072, 262144], inplace=True)"
   ]
  },
  {
   "cell_type": "markdown",
   "metadata": {},
   "source": [
    "Create 3 Pandas Dataframes and combine the Numerical, text and images features to be worked with in separate scripts. "
   ]
  },
  {
   "cell_type": "code",
   "execution_count": 5,
   "metadata": {},
   "outputs": [],
   "source": [
    "df_text = df[['id','description', 'post_caption', 'post_hashtags', 'post_mentions']]"
   ]
  },
  {
   "cell_type": "code",
   "execution_count": 120,
   "metadata": {},
   "outputs": [],
   "source": [
    "df_num = df[['id','gender', 'post_followers', 'post_likes', 'post_comments']]"
   ]
  },
  {
   "cell_type": "code",
   "execution_count": 122,
   "metadata": {},
   "outputs": [],
   "source": [
    "df_image = df[['id','perma_link', 'image']]"
   ]
  },
  {
   "cell_type": "markdown",
   "metadata": {},
   "source": [
    "---\n",
    "# Numerical Dataframe\n",
    "\n",
    "Separate all of the numerical features into a single Dataframe. Clean and process them into usable features. Lastly save as a csv."
   ]
  },
  {
   "cell_type": "markdown",
   "metadata": {},
   "source": [
    "### Convert Categories String to list, one hot encode"
   ]
  },
  {
   "cell_type": "code",
   "execution_count": 123,
   "metadata": {},
   "outputs": [],
   "source": [
    "df_cat['categories']= df_cat['categories'].str.strip('], ').str.strip('[]').str.strip('] ').str.replace(' ', '').str.split(',')"
   ]
  },
  {
   "cell_type": "code",
   "execution_count": 124,
   "metadata": {},
   "outputs": [],
   "source": [
    "s = df_cat['categories']"
   ]
  },
  {
   "cell_type": "code",
   "execution_count": 125,
   "metadata": {},
   "outputs": [],
   "source": [
    "df_cat_temp = pd.get_dummies(s.apply(pd.Series).stack()).sum(level=0)"
   ]
  },
  {
   "cell_type": "markdown",
   "metadata": {},
   "source": [
    "Apply category labels to One Hot DF"
   ]
  },
  {
   "cell_type": "markdown",
   "metadata": {},
   "source": [
    "1 => 'Beauty',\n",
    "2 => 'DIY',\n",
    "3 => 'Fashion',\n",
    "4 => 'Lifestyle',\n",
    "5 => 'Menswear',\n",
    "6 => 'Models',\n",
    "8 => 'News',\n",
    "9 => 'Personal Style',\n",
    "10 => 'Photography',\n",
    "11 => 'Illustration',\n",
    "12 => 'Vlog',\n",
    "13 => 'Food',\n",
    "14 => 'Artist',\n",
    "15 => 'Musician/DJ',\n",
    "16 => \"Tech\",\n",
    "17 => \"Parenting\",\n",
    "18 => \"Entertainment\",\n",
    "19 => \"Fitness\",\n",
    "20 => \"Health and Wellness\",\n",
    "21 => \"Automotive\",\n",
    "22 => \"Home Decor\",\n",
    "23 => \"Art and Design\",\n",
    "24 => \"Travel\""
   ]
  },
  {
   "cell_type": "code",
   "execution_count": 126,
   "metadata": {},
   "outputs": [],
   "source": [
    "cat_columns = ['no_cat','cat_beauty', 'cat_photography', 'cat_illustration', 'cat_vlog', 'cat_food', 'cat_artist', 'cat_musician/DJ', \n",
    "               \"cat_tech\", \"cat_parenting\", \"cat_entertainment\", \"cat_fitness\", 'cat_diy', \"cat_health_wellness\", \"cat_automotive\", \n",
    "               \"cat_home_decor\", \"cat_art_design\", \"cat_travel\",'cat_fashion', 'cat_lifestyle', 'cat_menswear', \n",
    "               'cat_models', 'unknown', 'cat_news', 'cat_personal_style']"
   ]
  },
  {
   "cell_type": "code",
   "execution_count": 127,
   "metadata": {},
   "outputs": [],
   "source": [
    "df_cat_temp.columns = cat_columns"
   ]
  },
  {
   "cell_type": "code",
   "execution_count": 128,
   "metadata": {},
   "outputs": [],
   "source": [
    "df_cat = df_cat.join(df_cat_temp)"
   ]
  },
  {
   "cell_type": "code",
   "execution_count": 129,
   "metadata": {},
   "outputs": [],
   "source": [
    "df_cat.drop('categories', axis=1, inplace=True)"
   ]
  },
  {
   "cell_type": "code",
   "execution_count": 130,
   "metadata": {},
   "outputs": [],
   "source": [
    "df_cat = df_cat.groupby('id').mean().round()"
   ]
  },
  {
   "cell_type": "code",
   "execution_count": 131,
   "metadata": {},
   "outputs": [],
   "source": [
    "df_cat.drop(index = ['What do you use your mason jar for?'], inplace=True)"
   ]
  },
  {
   "cell_type": "code",
   "execution_count": 132,
   "metadata": {},
   "outputs": [],
   "source": [
    "cos_sim_cat = pd.DataFrame(cosine_similarity(df_cat, dense_output=False), \n",
    "                              index=df_cat.index, columns=df_cat.index)"
   ]
  },
  {
   "cell_type": "code",
   "execution_count": 133,
   "metadata": {},
   "outputs": [
    {
     "data": {
      "text/html": [
       "<div>\n",
       "<style scoped>\n",
       "    .dataframe tbody tr th:only-of-type {\n",
       "        vertical-align: middle;\n",
       "    }\n",
       "\n",
       "    .dataframe tbody tr th {\n",
       "        vertical-align: top;\n",
       "    }\n",
       "\n",
       "    .dataframe thead th {\n",
       "        text-align: right;\n",
       "    }\n",
       "</style>\n",
       "<table border=\"1\" class=\"dataframe\">\n",
       "  <thead>\n",
       "    <tr style=\"text-align: right;\">\n",
       "      <th>id</th>\n",
       "      <th>8</th>\n",
       "      <th>82</th>\n",
       "      <th>203</th>\n",
       "      <th>303</th>\n",
       "      <th>579</th>\n",
       "      <th>589</th>\n",
       "      <th>627</th>\n",
       "      <th>659</th>\n",
       "      <th>677</th>\n",
       "      <th>703</th>\n",
       "      <th>...</th>\n",
       "      <th>9810</th>\n",
       "      <th>9811</th>\n",
       "      <th>9824</th>\n",
       "      <th>9838</th>\n",
       "      <th>9879</th>\n",
       "      <th>9911</th>\n",
       "      <th>9957</th>\n",
       "      <th>9965</th>\n",
       "      <th>9987</th>\n",
       "      <th>_</th>\n",
       "    </tr>\n",
       "    <tr>\n",
       "      <th>id</th>\n",
       "      <th></th>\n",
       "      <th></th>\n",
       "      <th></th>\n",
       "      <th></th>\n",
       "      <th></th>\n",
       "      <th></th>\n",
       "      <th></th>\n",
       "      <th></th>\n",
       "      <th></th>\n",
       "      <th></th>\n",
       "      <th></th>\n",
       "      <th></th>\n",
       "      <th></th>\n",
       "      <th></th>\n",
       "      <th></th>\n",
       "      <th></th>\n",
       "      <th></th>\n",
       "      <th></th>\n",
       "      <th></th>\n",
       "      <th></th>\n",
       "      <th></th>\n",
       "    </tr>\n",
       "  </thead>\n",
       "  <tbody>\n",
       "    <tr>\n",
       "      <th>8</th>\n",
       "      <td>1.000000</td>\n",
       "      <td>0.258199</td>\n",
       "      <td>0.654654</td>\n",
       "      <td>0.774597</td>\n",
       "      <td>0.408248</td>\n",
       "      <td>0.666667</td>\n",
       "      <td>1.000000</td>\n",
       "      <td>0.480384</td>\n",
       "      <td>0.666667</td>\n",
       "      <td>0.654654</td>\n",
       "      <td>...</td>\n",
       "      <td>0.547723</td>\n",
       "      <td>0.666667</td>\n",
       "      <td>0.577350</td>\n",
       "      <td>0.408248</td>\n",
       "      <td>0.577350</td>\n",
       "      <td>0.577350</td>\n",
       "      <td>0.774597</td>\n",
       "      <td>0.333333</td>\n",
       "      <td>0.333333</td>\n",
       "      <td>0.0</td>\n",
       "    </tr>\n",
       "    <tr>\n",
       "      <th>82</th>\n",
       "      <td>0.258199</td>\n",
       "      <td>1.000000</td>\n",
       "      <td>0.338062</td>\n",
       "      <td>0.400000</td>\n",
       "      <td>0.316228</td>\n",
       "      <td>0.000000</td>\n",
       "      <td>0.258199</td>\n",
       "      <td>0.496139</td>\n",
       "      <td>0.000000</td>\n",
       "      <td>0.338062</td>\n",
       "      <td>...</td>\n",
       "      <td>0.424264</td>\n",
       "      <td>0.258199</td>\n",
       "      <td>0.223607</td>\n",
       "      <td>0.316228</td>\n",
       "      <td>0.298142</td>\n",
       "      <td>0.223607</td>\n",
       "      <td>0.200000</td>\n",
       "      <td>0.258199</td>\n",
       "      <td>0.258199</td>\n",
       "      <td>0.0</td>\n",
       "    </tr>\n",
       "    <tr>\n",
       "      <th>203</th>\n",
       "      <td>0.654654</td>\n",
       "      <td>0.338062</td>\n",
       "      <td>1.000000</td>\n",
       "      <td>0.676123</td>\n",
       "      <td>0.534522</td>\n",
       "      <td>0.436436</td>\n",
       "      <td>0.654654</td>\n",
       "      <td>0.628971</td>\n",
       "      <td>0.654654</td>\n",
       "      <td>0.714286</td>\n",
       "      <td>...</td>\n",
       "      <td>0.597614</td>\n",
       "      <td>0.654654</td>\n",
       "      <td>0.566947</td>\n",
       "      <td>0.267261</td>\n",
       "      <td>0.629941</td>\n",
       "      <td>0.377964</td>\n",
       "      <td>0.507093</td>\n",
       "      <td>0.218218</td>\n",
       "      <td>0.218218</td>\n",
       "      <td>0.0</td>\n",
       "    </tr>\n",
       "    <tr>\n",
       "      <th>303</th>\n",
       "      <td>0.774597</td>\n",
       "      <td>0.400000</td>\n",
       "      <td>0.676123</td>\n",
       "      <td>1.000000</td>\n",
       "      <td>0.632456</td>\n",
       "      <td>0.516398</td>\n",
       "      <td>0.774597</td>\n",
       "      <td>0.620174</td>\n",
       "      <td>0.774597</td>\n",
       "      <td>0.676123</td>\n",
       "      <td>...</td>\n",
       "      <td>0.565685</td>\n",
       "      <td>0.774597</td>\n",
       "      <td>0.670820</td>\n",
       "      <td>0.316228</td>\n",
       "      <td>0.596285</td>\n",
       "      <td>0.447214</td>\n",
       "      <td>0.600000</td>\n",
       "      <td>0.258199</td>\n",
       "      <td>0.258199</td>\n",
       "      <td>0.0</td>\n",
       "    </tr>\n",
       "    <tr>\n",
       "      <th>579</th>\n",
       "      <td>0.408248</td>\n",
       "      <td>0.316228</td>\n",
       "      <td>0.534522</td>\n",
       "      <td>0.632456</td>\n",
       "      <td>1.000000</td>\n",
       "      <td>0.204124</td>\n",
       "      <td>0.408248</td>\n",
       "      <td>0.686406</td>\n",
       "      <td>0.408248</td>\n",
       "      <td>0.400892</td>\n",
       "      <td>...</td>\n",
       "      <td>0.559017</td>\n",
       "      <td>0.408248</td>\n",
       "      <td>0.353553</td>\n",
       "      <td>0.250000</td>\n",
       "      <td>0.589256</td>\n",
       "      <td>0.353553</td>\n",
       "      <td>0.316228</td>\n",
       "      <td>0.204124</td>\n",
       "      <td>0.204124</td>\n",
       "      <td>0.0</td>\n",
       "    </tr>\n",
       "  </tbody>\n",
       "</table>\n",
       "<p>5 rows × 2003 columns</p>\n",
       "</div>"
      ],
      "text/plain": [
       "id          8        82       203       303       579       589       627  \\\n",
       "id                                                                          \n",
       "8    1.000000  0.258199  0.654654  0.774597  0.408248  0.666667  1.000000   \n",
       "82   0.258199  1.000000  0.338062  0.400000  0.316228  0.000000  0.258199   \n",
       "203  0.654654  0.338062  1.000000  0.676123  0.534522  0.436436  0.654654   \n",
       "303  0.774597  0.400000  0.676123  1.000000  0.632456  0.516398  0.774597   \n",
       "579  0.408248  0.316228  0.534522  0.632456  1.000000  0.204124  0.408248   \n",
       "\n",
       "id        659       677       703  ...      9810      9811      9824  \\\n",
       "id                                 ...                                 \n",
       "8    0.480384  0.666667  0.654654  ...  0.547723  0.666667  0.577350   \n",
       "82   0.496139  0.000000  0.338062  ...  0.424264  0.258199  0.223607   \n",
       "203  0.628971  0.654654  0.714286  ...  0.597614  0.654654  0.566947   \n",
       "303  0.620174  0.774597  0.676123  ...  0.565685  0.774597  0.670820   \n",
       "579  0.686406  0.408248  0.400892  ...  0.559017  0.408248  0.353553   \n",
       "\n",
       "id       9838      9879      9911      9957      9965      9987    _  \n",
       "id                                                                    \n",
       "8    0.408248  0.577350  0.577350  0.774597  0.333333  0.333333  0.0  \n",
       "82   0.316228  0.298142  0.223607  0.200000  0.258199  0.258199  0.0  \n",
       "203  0.267261  0.629941  0.377964  0.507093  0.218218  0.218218  0.0  \n",
       "303  0.316228  0.596285  0.447214  0.600000  0.258199  0.258199  0.0  \n",
       "579  0.250000  0.589256  0.353553  0.316228  0.204124  0.204124  0.0  \n",
       "\n",
       "[5 rows x 2003 columns]"
      ]
     },
     "execution_count": 133,
     "metadata": {},
     "output_type": "execute_result"
    }
   ],
   "source": [
    "cos_sim_cat.head()"
   ]
  },
  {
   "cell_type": "code",
   "execution_count": 134,
   "metadata": {},
   "outputs": [],
   "source": [
    "cos_sim_cat.to_csv('cos_sim_cat.csv')"
   ]
  },
  {
   "cell_type": "markdown",
   "metadata": {},
   "source": [
    "### Gender: Remove comma, remove 'nil',  convert to int"
   ]
  },
  {
   "cell_type": "code",
   "execution_count": 70,
   "metadata": {},
   "outputs": [],
   "source": [
    "# df_num['gender'] = pd.DataFrame(df_num['gender'].str.replace(',', ''))"
   ]
  },
  {
   "cell_type": "code",
   "execution_count": 71,
   "metadata": {},
   "outputs": [],
   "source": [
    "# df_num['gender'] = pd.DataFrame(df_num['gender'].replace('nil ', None))"
   ]
  },
  {
   "cell_type": "code",
   "execution_count": 84,
   "metadata": {},
   "outputs": [],
   "source": [
    "# df_num.gender = df_num.gender.astype(int)"
   ]
  },
  {
   "cell_type": "markdown",
   "metadata": {},
   "source": [
    "### post_followers: Remove comma,  convert to int"
   ]
  },
  {
   "cell_type": "code",
   "execution_count": 73,
   "metadata": {},
   "outputs": [],
   "source": [
    "# df_num['post_followers'] = pd.DataFrame(df_num['post_followers'].str.replace(',', ''))"
   ]
  },
  {
   "cell_type": "code",
   "execution_count": 74,
   "metadata": {},
   "outputs": [],
   "source": [
    "# df_num.post_followers = pd.to_numeric(df_num.post_followers)"
   ]
  },
  {
   "cell_type": "markdown",
   "metadata": {},
   "source": [
    "### post_likes: Remove commas, convert to int"
   ]
  },
  {
   "cell_type": "code",
   "execution_count": 50,
   "metadata": {},
   "outputs": [],
   "source": [
    "df_num['post_likes'] = pd.DataFrame(df_num['post_likes'].str.replace(',', ''))"
   ]
  },
  {
   "cell_type": "code",
   "execution_count": 51,
   "metadata": {},
   "outputs": [],
   "source": [
    "df_num.post_likes = pd.to_numeric(df_num.post_likes)"
   ]
  },
  {
   "cell_type": "markdown",
   "metadata": {},
   "source": [
    "### post_interactions: Remove commas convert to int"
   ]
  },
  {
   "cell_type": "code",
   "execution_count": 37,
   "metadata": {},
   "outputs": [],
   "source": [
    "# df_num['post_interactions'] = pd.DataFrame(df_num['post_interactions'].str.replace(', ', ''))"
   ]
  },
  {
   "cell_type": "code",
   "execution_count": 38,
   "metadata": {},
   "outputs": [],
   "source": [
    "# df_num['post_interactions'] = pd.DataFrame(df_num['post_interactions'].str.replace(',', ''))"
   ]
  },
  {
   "cell_type": "code",
   "execution_count": 39,
   "metadata": {},
   "outputs": [],
   "source": [
    "# df_num['post_interactions'] = pd.DataFrame(df_num['post_interactions'].str.replace('nil', ''))"
   ]
  },
  {
   "cell_type": "code",
   "execution_count": null,
   "metadata": {},
   "outputs": [],
   "source": [
    "# df_num['post_interactions'] = pd.DataFrame(df_num['post_interactions'].str.replace('\"\"', ''))"
   ]
  },
  {
   "cell_type": "code",
   "execution_count": 40,
   "metadata": {},
   "outputs": [],
   "source": [
    "# df_num.post_interactions = pd.to_numeric(df_num.post_interactions)"
   ]
  },
  {
   "cell_type": "markdown",
   "metadata": {},
   "source": [
    "### post_comments: Remove commas, convert to int"
   ]
  },
  {
   "cell_type": "code",
   "execution_count": 75,
   "metadata": {},
   "outputs": [],
   "source": [
    "df_num['post_comments'] = pd.DataFrame(df_num['post_comments'].str.replace(', ', ''))"
   ]
  },
  {
   "cell_type": "code",
   "execution_count": 76,
   "metadata": {},
   "outputs": [],
   "source": [
    "df_num['post_comments'] = pd.DataFrame(df_num['post_comments'].str.replace(',', ''))"
   ]
  },
  {
   "cell_type": "code",
   "execution_count": 77,
   "metadata": {},
   "outputs": [],
   "source": [
    "df_num['post_comments'] = pd.DataFrame(df_num['post_comments'].str.replace('nil', ''))"
   ]
  },
  {
   "cell_type": "code",
   "execution_count": 78,
   "metadata": {},
   "outputs": [],
   "source": [
    "df_num['post_comments'] = pd.DataFrame(df_num['post_comments'].str.replace('\"\"', ''))"
   ]
  },
  {
   "cell_type": "code",
   "execution_count": 79,
   "metadata": {},
   "outputs": [],
   "source": [
    "df_num.post_comments = pd.to_numeric(df_num.post_comments)"
   ]
  },
  {
   "cell_type": "markdown",
   "metadata": {},
   "source": [
    "## Save Num Values to CSV"
   ]
  },
  {
   "cell_type": "markdown",
   "metadata": {
    "scrolled": false
   },
   "source": [
    "We will save to two CSV files, one which includes the text columns and the second which only includes the integer based columns. We are doing this to allow for an intermediate step of Natural Language Processing before combining to a single Cosine Similarity recommendation. "
   ]
  },
  {
   "cell_type": "markdown",
   "metadata": {},
   "source": [
    "Group all by ID and set all values to **Mean**"
   ]
  },
  {
   "cell_type": "code",
   "execution_count": 66,
   "metadata": {},
   "outputs": [
    {
     "data": {
      "text/plain": [
       "int"
      ]
     },
     "execution_count": 66,
     "metadata": {},
     "output_type": "execute_result"
    }
   ],
   "source": [
    "type(df_num.post_followers.values[3])"
   ]
  },
  {
   "cell_type": "code",
   "execution_count": 82,
   "metadata": {},
   "outputs": [
    {
     "data": {
      "text/plain": [
       "int"
      ]
     },
     "execution_count": 82,
     "metadata": {},
     "output_type": "execute_result"
    }
   ],
   "source": [
    "type(df_num.gender.values[3])"
   ]
  },
  {
   "cell_type": "code",
   "execution_count": 68,
   "metadata": {},
   "outputs": [
    {
     "data": {
      "text/plain": [
       "str"
      ]
     },
     "execution_count": 68,
     "metadata": {},
     "output_type": "execute_result"
    }
   ],
   "source": [
    "type(df_num.post_likes.values[3])"
   ]
  },
  {
   "cell_type": "code",
   "execution_count": 80,
   "metadata": {},
   "outputs": [
    {
     "data": {
      "text/plain": [
       "numpy.float64"
      ]
     },
     "execution_count": 80,
     "metadata": {},
     "output_type": "execute_result"
    }
   ],
   "source": [
    "type(df_num.post_comments.values[3])"
   ]
  },
  {
   "cell_type": "code",
   "execution_count": 58,
   "metadata": {},
   "outputs": [],
   "source": [
    "df_num = df_num.groupby('id').mean().round()"
   ]
  },
  {
   "cell_type": "code",
   "execution_count": null,
   "metadata": {},
   "outputs": [],
   "source": []
  },
  {
   "cell_type": "code",
   "execution_count": 59,
   "metadata": {},
   "outputs": [
    {
     "data": {
      "text/html": [
       "<div>\n",
       "<style scoped>\n",
       "    .dataframe tbody tr th:only-of-type {\n",
       "        vertical-align: middle;\n",
       "    }\n",
       "\n",
       "    .dataframe tbody tr th {\n",
       "        vertical-align: top;\n",
       "    }\n",
       "\n",
       "    .dataframe thead th {\n",
       "        text-align: right;\n",
       "    }\n",
       "</style>\n",
       "<table border=\"1\" class=\"dataframe\">\n",
       "  <thead>\n",
       "    <tr style=\"text-align: right;\">\n",
       "      <th></th>\n",
       "      <th>post_likes</th>\n",
       "      <th>post_comments</th>\n",
       "    </tr>\n",
       "    <tr>\n",
       "      <th>id</th>\n",
       "      <th></th>\n",
       "      <th></th>\n",
       "    </tr>\n",
       "  </thead>\n",
       "  <tbody>\n",
       "    <tr>\n",
       "      <th>8</th>\n",
       "      <td>823.0</td>\n",
       "      <td>32.0</td>\n",
       "    </tr>\n",
       "    <tr>\n",
       "      <th>82</th>\n",
       "      <td>581.0</td>\n",
       "      <td>13.0</td>\n",
       "    </tr>\n",
       "    <tr>\n",
       "      <th>203</th>\n",
       "      <td>6155.0</td>\n",
       "      <td>69.0</td>\n",
       "    </tr>\n",
       "    <tr>\n",
       "      <th>303</th>\n",
       "      <td>1099.0</td>\n",
       "      <td>12.0</td>\n",
       "    </tr>\n",
       "    <tr>\n",
       "      <th>579</th>\n",
       "      <td>3026.0</td>\n",
       "      <td>122.0</td>\n",
       "    </tr>\n",
       "  </tbody>\n",
       "</table>\n",
       "</div>"
      ],
      "text/plain": [
       "     post_likes  post_comments\n",
       "id                            \n",
       "8         823.0           32.0\n",
       "82        581.0           13.0\n",
       "203      6155.0           69.0\n",
       "303      1099.0           12.0\n",
       "579      3026.0          122.0"
      ]
     },
     "execution_count": 59,
     "metadata": {},
     "output_type": "execute_result"
    }
   ],
   "source": [
    "df_num.head()"
   ]
  },
  {
   "cell_type": "code",
   "execution_count": null,
   "metadata": {},
   "outputs": [],
   "source": [
    "df_num.fillna(value=0, inplace=True)"
   ]
  },
  {
   "cell_type": "markdown",
   "metadata": {},
   "source": [
    "Save Numerical data to CSV"
   ]
  },
  {
   "cell_type": "code",
   "execution_count": null,
   "metadata": {},
   "outputs": [],
   "source": [
    "df_num.to_csv('./2000/2000_num_per_user.csv')"
   ]
  },
  {
   "cell_type": "code",
   "execution_count": null,
   "metadata": {},
   "outputs": [],
   "source": [
    "df_num.head(20)"
   ]
  },
  {
   "cell_type": "markdown",
   "metadata": {},
   "source": [
    "---\n",
    "# Text DataFrame"
   ]
  },
  {
   "cell_type": "markdown",
   "metadata": {},
   "source": [
    "Clean DataFrame with text portion and prepare for Natural Language Processing."
   ]
  },
  {
   "cell_type": "markdown",
   "metadata": {},
   "source": [
    "### post_caption: remove quotes and commas"
   ]
  },
  {
   "cell_type": "code",
   "execution_count": 85,
   "metadata": {},
   "outputs": [],
   "source": [
    "df_text['post_caption'] = pd.DataFrame(df_text['post_caption'].str.replace('\",', ''))"
   ]
  },
  {
   "cell_type": "code",
   "execution_count": 86,
   "metadata": {},
   "outputs": [],
   "source": [
    "df_text['post_caption'] = df_text['post_caption'].str.replace('\"', '')"
   ]
  },
  {
   "cell_type": "code",
   "execution_count": 87,
   "metadata": {},
   "outputs": [],
   "source": [
    "df_text['post_caption'] = pd.DataFrame(df_text['post_caption'].str.replace('\"\",', ''))"
   ]
  },
  {
   "cell_type": "code",
   "execution_count": 88,
   "metadata": {},
   "outputs": [],
   "source": [
    "df_text['post_caption'] = pd.DataFrame(df_text['post_caption'].str.replace('\\n', ''))"
   ]
  },
  {
   "cell_type": "code",
   "execution_count": 89,
   "metadata": {},
   "outputs": [],
   "source": [
    "df_text.post_caption = df_text.post_caption.astype(str)"
   ]
  },
  {
   "cell_type": "markdown",
   "metadata": {},
   "source": [
    "### post_hashtags: Remove quotes, convert to string"
   ]
  },
  {
   "cell_type": "code",
   "execution_count": 90,
   "metadata": {},
   "outputs": [],
   "source": [
    "df_text['post_hashtags'] = pd.DataFrame(df_text['post_hashtags'].str.replace('\",', ''))"
   ]
  },
  {
   "cell_type": "code",
   "execution_count": 91,
   "metadata": {},
   "outputs": [],
   "source": [
    "df_text['post_hashtags'] = pd.DataFrame(df_text['post_hashtags'].str.replace('\"', ''))"
   ]
  },
  {
   "cell_type": "code",
   "execution_count": 92,
   "metadata": {},
   "outputs": [],
   "source": [
    "df_text['post_hashtags'] = pd.DataFrame(df_text['post_hashtags'].str.replace('\"\",', ''))"
   ]
  },
  {
   "cell_type": "code",
   "execution_count": 93,
   "metadata": {},
   "outputs": [],
   "source": [
    "df_text.post_hashtags = df_text.post_hashtags.astype(str)"
   ]
  },
  {
   "cell_type": "markdown",
   "metadata": {},
   "source": [
    "### post_mentions: Remove quotes, convert to string"
   ]
  },
  {
   "cell_type": "code",
   "execution_count": 94,
   "metadata": {},
   "outputs": [],
   "source": [
    "df_text['post_mentions'] = pd.DataFrame(df_text['post_mentions'].str.replace('\",', ''))"
   ]
  },
  {
   "cell_type": "code",
   "execution_count": 95,
   "metadata": {},
   "outputs": [],
   "source": [
    "df_text['post_mentions'] = pd.DataFrame(df_text['post_mentions'].str.replace('\"', ''))"
   ]
  },
  {
   "cell_type": "code",
   "execution_count": 96,
   "metadata": {},
   "outputs": [],
   "source": [
    "df_text['post_mentions'] = pd.DataFrame(df_text['post_mentions'].str.replace('\"\",', ''))"
   ]
  },
  {
   "cell_type": "code",
   "execution_count": 97,
   "metadata": {},
   "outputs": [],
   "source": [
    "df_text['post_mentions'] = pd.DataFrame(df_text['post_mentions'].str.replace(\"#<Hashie::Array \\[]>\", ' '))"
   ]
  },
  {
   "cell_type": "code",
   "execution_count": 98,
   "metadata": {},
   "outputs": [],
   "source": [
    "df_text.post_mentions = df_text.post_mentions.astype(str)"
   ]
  },
  {
   "cell_type": "markdown",
   "metadata": {},
   "source": [
    "### description: remove quotes convert to string"
   ]
  },
  {
   "cell_type": "code",
   "execution_count": 99,
   "metadata": {},
   "outputs": [],
   "source": [
    "df_text['description'] = pd.DataFrame(df_text['description'].str.replace('\",', ''))"
   ]
  },
  {
   "cell_type": "code",
   "execution_count": 100,
   "metadata": {},
   "outputs": [],
   "source": [
    "df_text['description'] = pd.DataFrame(df_text['description'].str.replace('\"', ''))"
   ]
  },
  {
   "cell_type": "code",
   "execution_count": 101,
   "metadata": {},
   "outputs": [],
   "source": [
    "df_text['description'] = pd.DataFrame(df_text['description'].str.replace('\"\",', ''))"
   ]
  },
  {
   "cell_type": "code",
   "execution_count": 102,
   "metadata": {},
   "outputs": [],
   "source": [
    "df_text['description'] = pd.DataFrame(df_text['description'].replace('nil, ', None))"
   ]
  },
  {
   "cell_type": "code",
   "execution_count": 103,
   "metadata": {},
   "outputs": [],
   "source": [
    "df_text.description = df_text.description.astype(str)"
   ]
  },
  {
   "cell_type": "markdown",
   "metadata": {},
   "source": [
    "### Combine all text into a single cell per user"
   ]
  },
  {
   "cell_type": "code",
   "execution_count": 104,
   "metadata": {},
   "outputs": [],
   "source": [
    "df_text['all_text'] = df_text[['post_caption', 'post_hashtags', 'post_mentions' ]].apply(lambda x: ' '.join(x), axis=1)"
   ]
  },
  {
   "cell_type": "markdown",
   "metadata": {},
   "source": [
    "Then groupby user id and description.  This allows for the description to be entered just once. "
   ]
  },
  {
   "cell_type": "code",
   "execution_count": 105,
   "metadata": {},
   "outputs": [],
   "source": [
    "df_text = df_text.groupby(['id', 'description'])['all_text'].apply(' '.join).reset_index()"
   ]
  },
  {
   "cell_type": "code",
   "execution_count": 106,
   "metadata": {},
   "outputs": [],
   "source": [
    "df_text['all_text'] = df_text[['description', 'all_text']].apply(lambda x: ' '.join(x), axis=1)"
   ]
  },
  {
   "cell_type": "code",
   "execution_count": 107,
   "metadata": {},
   "outputs": [],
   "source": [
    "df_text.drop('description', axis=1, inplace=True)"
   ]
  },
  {
   "cell_type": "code",
   "execution_count": 108,
   "metadata": {},
   "outputs": [],
   "source": [
    "df_text.all_text = pd.DataFrame(df_text['all_text'].str.replace('\\n-\\n', ' '))"
   ]
  },
  {
   "cell_type": "code",
   "execution_count": 109,
   "metadata": {},
   "outputs": [],
   "source": [
    "bad_character_list = ['\\\\n•', '\\\\n', '\\n', ',', '.', '?', '!', ')', '(', '#', '&', '\\r', '\"', '\\r\\n\\r\\n']"
   ]
  },
  {
   "cell_type": "code",
   "execution_count": null,
   "metadata": {},
   "outputs": [],
   "source": []
  },
  {
   "cell_type": "code",
   "execution_count": 110,
   "metadata": {},
   "outputs": [],
   "source": [
    "for symbol in bad_character_list:\n",
    "    df_text.all_text = pd.DataFrame(df_text['all_text'].str.replace(symbol, '', regex=False))"
   ]
  },
  {
   "cell_type": "markdown",
   "metadata": {},
   "source": [
    "### Save Text data to CSV"
   ]
  },
  {
   "cell_type": "code",
   "execution_count": 111,
   "metadata": {},
   "outputs": [],
   "source": [
    "df_text.to_csv('./2000/2000_text_per_user.csv')"
   ]
  },
  {
   "cell_type": "code",
   "execution_count": 112,
   "metadata": {},
   "outputs": [
    {
     "data": {
      "text/html": [
       "<div>\n",
       "<style scoped>\n",
       "    .dataframe tbody tr th:only-of-type {\n",
       "        vertical-align: middle;\n",
       "    }\n",
       "\n",
       "    .dataframe tbody tr th {\n",
       "        vertical-align: top;\n",
       "    }\n",
       "\n",
       "    .dataframe thead th {\n",
       "        text-align: right;\n",
       "    }\n",
       "</style>\n",
       "<table border=\"1\" class=\"dataframe\">\n",
       "  <thead>\n",
       "    <tr style=\"text-align: right;\">\n",
       "      <th></th>\n",
       "      <th>id</th>\n",
       "      <th>all_text</th>\n",
       "    </tr>\n",
       "  </thead>\n",
       "  <tbody>\n",
       "    <tr>\n",
       "      <th>0</th>\n",
       "      <td>8</td>\n",
       "      <td>Werbung | Ein Bild von vor 2 Tagen als es hie...</td>\n",
       "    </tr>\n",
       "    <tr>\n",
       "      <th>1</th>\n",
       "      <td>82</td>\n",
       "      <td>Natalie Zfat is a social media entrepreneur Fo...</td>\n",
       "    </tr>\n",
       "    <tr>\n",
       "      <th>2</th>\n",
       "      <td>203</td>\n",
       "      <td>Comfy me [] [asos kitsune chanelofficial] Bea...</td>\n",
       "    </tr>\n",
       "    <tr>\n",
       "      <th>3</th>\n",
       "      <td>303</td>\n",
       "      <td>Allow me to introduce myself you lovely reader...</td>\n",
       "    </tr>\n",
       "    <tr>\n",
       "      <th>4</th>\n",
       "      <td>579</td>\n",
       "      <td>For 8 years my body has been holding on to a ...</td>\n",
       "    </tr>\n",
       "    <tr>\n",
       "      <th>5</th>\n",
       "      <td>589</td>\n",
       "      <td>$10 top + $12 pants + $5 beanie + $250 mask =...</td>\n",
       "    </tr>\n",
       "    <tr>\n",
       "      <th>6</th>\n",
       "      <td>627</td>\n",
       "      <td>Dominican Lifestyle and Fashion blogger living...</td>\n",
       "    </tr>\n",
       "    <tr>\n",
       "      <th>7</th>\n",
       "      <td>659</td>\n",
       "      <td>Jordan Landes-Brenman @HAUTEHOUSEFLOWER has ea...</td>\n",
       "    </tr>\n",
       "    <tr>\n",
       "      <th>8</th>\n",
       "      <td>677</td>\n",
       "      <td>And we made it to Florida We took this pictur...</td>\n",
       "    </tr>\n",
       "    <tr>\n",
       "      <th>9</th>\n",
       "      <td>703</td>\n",
       "      <td>Kathleen Barnes is the life and style blogger ...</td>\n",
       "    </tr>\n",
       "  </tbody>\n",
       "</table>\n",
       "</div>"
      ],
      "text/plain": [
       "    id                                           all_text\n",
       "0    8   Werbung | Ein Bild von vor 2 Tagen als es hie...\n",
       "1   82  Natalie Zfat is a social media entrepreneur Fo...\n",
       "2  203   Comfy me [] [asos kitsune chanelofficial] Bea...\n",
       "3  303  Allow me to introduce myself you lovely reader...\n",
       "4  579   For 8 years my body has been holding on to a ...\n",
       "5  589   $10 top + $12 pants + $5 beanie + $250 mask =...\n",
       "6  627  Dominican Lifestyle and Fashion blogger living...\n",
       "7  659  Jordan Landes-Brenman @HAUTEHOUSEFLOWER has ea...\n",
       "8  677   And we made it to Florida We took this pictur...\n",
       "9  703  Kathleen Barnes is the life and style blogger ..."
      ]
     },
     "execution_count": 112,
     "metadata": {},
     "output_type": "execute_result"
    }
   ],
   "source": [
    "df_text.head(10)"
   ]
  },
  {
   "cell_type": "markdown",
   "metadata": {},
   "source": [
    "---\n",
    "\n",
    "# Image DataFrame\n",
    "\n",
    "Clean and process DataFrame to be used in Photo ETL script. "
   ]
  },
  {
   "cell_type": "code",
   "execution_count": null,
   "metadata": {},
   "outputs": [],
   "source": [
    "df_image.head()"
   ]
  },
  {
   "cell_type": "code",
   "execution_count": null,
   "metadata": {},
   "outputs": [],
   "source": [
    "df_image.to_csv('image_per_post.csv')"
   ]
  },
  {
   "cell_type": "code",
   "execution_count": null,
   "metadata": {},
   "outputs": [],
   "source": []
  },
  {
   "cell_type": "code",
   "execution_count": null,
   "metadata": {},
   "outputs": [],
   "source": []
  },
  {
   "cell_type": "code",
   "execution_count": null,
   "metadata": {},
   "outputs": [],
   "source": []
  },
  {
   "cell_type": "code",
   "execution_count": null,
   "metadata": {},
   "outputs": [],
   "source": []
  },
  {
   "cell_type": "code",
   "execution_count": null,
   "metadata": {},
   "outputs": [],
   "source": []
  }
 ],
 "metadata": {
  "kernelspec": {
   "display_name": "Python 3",
   "language": "python",
   "name": "python3"
  },
  "language_info": {
   "codemirror_mode": {
    "name": "ipython",
    "version": 3
   },
   "file_extension": ".py",
   "mimetype": "text/x-python",
   "name": "python",
   "nbconvert_exporter": "python",
   "pygments_lexer": "ipython3",
   "version": "3.7.1"
  }
 },
 "nbformat": 4,
 "nbformat_minor": 2
}
